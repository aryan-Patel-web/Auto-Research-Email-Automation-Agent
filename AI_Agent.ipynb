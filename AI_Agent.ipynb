{
 "cells": [
  {
   "cell_type": "markdown",
   "id": "e8e6d0de",
   "metadata": {},
   "source": [
    "# AutoResearchMailer"
   ]
  },
  {
   "cell_type": "markdown",
   "id": "e8402110",
   "metadata": {},
   "source": [
    "# AutoResearchMailer: Intelligent Research + Batch Email Agent\n",
    "🔍 Purpose:\n",
    "Automatically search a topic, summarize it using an open-source LLM (Gemma-2b-it via Groq), and email the summary to multiple recipients loaded from a CSV file — all through a clean Flask frontend."
   ]
  },
  {
   "cell_type": "markdown",
   "id": "81ee7dba",
   "metadata": {},
   "source": [
    "# 🧠 End-to-End Workflow Breakdown\n",
    "\n",
    "🔢 Step\t🔧 Task\t⚙️ Tools/Libraries\t💡 Description\n",
    "\n",
    "1️⃣\tInput topic from u  \t-Flask, index.html\tUser enters a research topic in a simple web form\n",
    "\n",
    "2️⃣\tLoad recipient emails\tpandas, emails.csv\tReads list of email addresses from a CSV file\n",
    "\n",
    "3️⃣\tSearch relevant info\tWikipediaQueryRun, ArxivAPIWrapper\tPulls articles from Wikipedia & Arxiv for the topic\n",
    "\n",
    "4️⃣\tSummarize content\tGroq API, gemma-2b-it model\tUses an open-source LLM to generate a short, clean summary\n",
    "\n",
    "5️⃣\tEmail the summary\tsmtplib, email.message\tSends the summary to each email in the CSV file\n",
    "\n",
    "6️⃣\tShow results\trender_template, result.html\tWeb UI displays the final summary and list of recipients\n",
    "\n",
    "7️⃣\tBackend reusability\tLangGraph, pickle\tAgent logic is saved & reused using a .pkl model in Flask"
   ]
  },
  {
   "cell_type": "code",
   "execution_count": 197,
   "id": "89bbdb45",
   "metadata": {},
   "outputs": [],
   "source": [
    "# #  Install required libraries\n",
    "# !pip install flask pandas langchain langchain_community langchain-groq langgraph cassio wikipedia arxiv tiktoken chromadb\n",
    "# # "
   ]
  },
  {
   "cell_type": "markdown",
   "id": "30563073",
   "metadata": {},
   "source": [
    "#  AstraDB Setup "
   ]
  },
  {
   "cell_type": "code",
   "execution_count": 198,
   "id": "462fd227",
   "metadata": {},
   "outputs": [],
   "source": [
    "# !pip install --upgrade cassandra-driver==3.29.2\n",
    "\n",
    "# import cassandra\n",
    "# print(cassandra.__version__)\n",
    "\n"
   ]
  },
  {
   "cell_type": "code",
   "execution_count": 199,
   "id": "d8d08e6a",
   "metadata": {},
   "outputs": [
    {
     "name": "stdout",
     "output_type": "stream",
     "text": [
      "Defaulting to user installation because normal site-packages is not writeable\n",
      "Requirement already satisfied: cassio in c:\\users\\aryan\\appdata\\roaming\\python\\python312\\site-packages (0.1.10)\n",
      "Requirement already satisfied: cassandra-driver<4.0.0,>=3.28.0 in c:\\users\\aryan\\appdata\\roaming\\python\\python312\\site-packages (from cassio) (3.29.2)\n",
      "Requirement already satisfied: numpy>=1.0 in c:\\users\\aryan\\appdata\\roaming\\python\\python312\\site-packages (from cassio) (1.26.4)\n",
      "Requirement already satisfied: requests<3.0.0,>=2.31.0 in c:\\users\\aryan\\appdata\\roaming\\python\\python312\\site-packages (from cassio) (2.32.4)\n",
      "Requirement already satisfied: geomet<0.3,>=0.1 in c:\\users\\aryan\\appdata\\roaming\\python\\python312\\site-packages (from cassandra-driver<4.0.0,>=3.28.0->cassio) (0.2.1.post1)\n",
      "Requirement already satisfied: click in c:\\users\\aryan\\appdata\\roaming\\python\\python312\\site-packages (from geomet<0.3,>=0.1->cassandra-driver<4.0.0,>=3.28.0->cassio) (8.2.1)\n",
      "Requirement already satisfied: six in c:\\users\\aryan\\appdata\\roaming\\python\\python312\\site-packages (from geomet<0.3,>=0.1->cassandra-driver<4.0.0,>=3.28.0->cassio) (1.17.0)\n",
      "Requirement already satisfied: charset_normalizer<4,>=2 in c:\\users\\aryan\\appdata\\roaming\\python\\python312\\site-packages (from requests<3.0.0,>=2.31.0->cassio) (3.4.2)\n",
      "Requirement already satisfied: idna<4,>=2.5 in c:\\users\\aryan\\appdata\\roaming\\python\\python312\\site-packages (from requests<3.0.0,>=2.31.0->cassio) (3.10)\n",
      "Requirement already satisfied: urllib3<3,>=1.21.1 in c:\\users\\aryan\\appdata\\roaming\\python\\python312\\site-packages (from requests<3.0.0,>=2.31.0->cassio) (2.5.0)\n",
      "Requirement already satisfied: certifi>=2017.4.17 in c:\\users\\aryan\\appdata\\roaming\\python\\python312\\site-packages (from requests<3.0.0,>=2.31.0->cassio) (2025.6.15)\n",
      "Requirement already satisfied: colorama in c:\\users\\aryan\\appdata\\roaming\\python\\python312\\site-packages (from click->geomet<0.3,>=0.1->cassandra-driver<4.0.0,>=3.28.0->cassio) (0.4.6)\n"
     ]
    }
   ],
   "source": [
    "!pip install cassio\n"
   ]
  },
  {
   "cell_type": "code",
   "execution_count": 200,
   "id": "1a26ae23",
   "metadata": {},
   "outputs": [],
   "source": [
    "# import cassio\n",
    "# ## connection of the ASTRA DB\n",
    "\n",
    "\n",
    "# cassio.init(token=ASTRA_DB_APPLICATION_TOKEN,database_id=ASTRA_DB_ID)"
   ]
  },
  {
   "cell_type": "markdown",
   "id": "e229bcd7",
   "metadata": {},
   "source": [
    "# Load Groq LLM "
   ]
  },
  {
   "cell_type": "code",
   "execution_count": 201,
   "id": "7cfe61cf",
   "metadata": {},
   "outputs": [
    {
     "data": {
      "text/plain": [
       "ChatGroq(client=<groq.resources.chat.completions.Completions object at 0x000001C8184DB830>, async_client=<groq.resources.chat.completions.AsyncCompletions object at 0x000001C81855CEF0>, model_name='llama3-70b-8192', model_kwargs={}, groq_api_key=SecretStr('**********'))"
      ]
     },
     "execution_count": 201,
     "metadata": {},
     "output_type": "execute_result"
    }
   ],
   "source": [
    "import os\n",
    "from langchain_groq import ChatGroq\n",
    "\n",
    "groq_api_key = os.environ.get(\"GROK_API_KEY\")\n",
    "\n",
    "# llm=ChatGroq(groq_api_key=groq_api_key, model=\"llama-3.3-70b-versatile\")\n",
    "llm = ChatGroq(groq_api_key=groq_api_key, model=\"llama3-70b-8192\") \n",
    "\n",
    "llm"
   ]
  },
  {
   "cell_type": "markdown",
   "id": "5d96851a",
   "metadata": {},
   "source": [
    "# Load External Tools (Wikipedia + Arxiv)"
   ]
  },
  {
   "cell_type": "code",
   "execution_count": 202,
   "id": "2a138d8c",
   "metadata": {},
   "outputs": [
    {
     "name": "stdout",
     "output_type": "stream",
     "text": [
      "Page: LangChain\n",
      "Summary: LangChain is a software framework that helps facilitate the integration of large language models (LLMs) into applications. As a language model integration framework, LangChain's use-cases largely overlap with those of language models in general, including document analysis and summarization, chatbots, and code analysis.\n",
      "Published: 2016-05-26\n",
      "Title: Heat-bath random walks with Markov bases\n",
      "Authors: Caprice Stanley, Tobias Windisch\n",
      "Summary: Graphs on lattice points are studied whose edges come from a finite set of\n",
      "allowed moves of arbitrary length. We show that the diameter of these graphs on\n",
      "fibers of a fixed integer matrix can be bounded from above by a constant. We\n",
      "then study the mixing behaviour of heat-bath random walks on these graphs. We\n",
      "also state explicit conditions on the set of moves so that the heat-bath random\n",
      "walk, a generalization of the Glauber dynamics, is an expander in fixed\n",
      "dimension.\n"
     ]
    }
   ],
   "source": [
    "from langchain_community.utilities import WikipediaAPIWrapper, ArxivAPIWrapper\n",
    "from langchain_community.tools import WikipediaQueryRun, ArxivQueryRun\n",
    "\n",
    "wiki_wrapper = WikipediaAPIWrapper(top_k_results=1, doc_content_chars_max=2000)\n",
    "wiki_tool = WikipediaQueryRun(api_wrapper=wiki_wrapper, return_direct=True)\n",
    "\n",
    "arxiv_wrapper = ArxivAPIWrapper()\n",
    "arxiv_tool = ArxivQueryRun(api_wrapper=arxiv_wrapper, return_direct=True)\n",
    "\n",
    "# Optional test\n",
    "print(wiki_tool.run(\"LangChain\"))\n",
    "print(arxiv_tool.run(\"1605.08386\"))\n"
   ]
  },
  {
   "cell_type": "markdown",
   "id": "d1b5f052",
   "metadata": {},
   "source": [
    "# Summarizer + Email Sender (Multiple Emails)"
   ]
  },
  {
   "cell_type": "markdown",
   "id": "2ed08b1d",
   "metadata": {},
   "source": [
    "# step-1   https://myaccount.google.com/u/2/security  ---- here on 2-step authentication like passkey , authenticator . google prompt , add mobile number etc"
   ]
  },
  {
   "cell_type": "markdown",
   "id": "3e7d3c83",
   "metadata": {},
   "source": [
    "# step-2 --- https://myaccount.google.com/u/2/apppasswords   -- here enter appname then 16 digit password will be generated copy and paste here"
   ]
  },
  {
   "cell_type": "code",
   "execution_count": 203,
   "id": "7085e81e",
   "metadata": {},
   "outputs": [],
   "source": [
    "import smtplib\n",
    "from email.message import EmailMessage\n",
    "\n",
    "def summarize_text(text):\n",
    "    prompt = f\"Summarize the following text: {text}\"\n",
    "    return llm.invoke(prompt)\n",
    "\n",
    "def send_email(summary, subject=\"AI Summary Report\", to=\"aryanpatel77462@gmail.com\"):\n",
    "    msg = EmailMessage()\n",
    "    msg[\"Subject\"] = subject\n",
    "    msg[\"From\"] = \"aryan9140782212@gmail.com\"\n",
    "    msg[\"To\"] = to\n",
    "    msg.set_content(summary)\n",
    "\n",
    "    with smtplib.SMTP_SSL(\"smtp.gmail.com\", 465) as smtp:\n",
    "        smtp.login(\"aryan9140782212@gmail.com\", \"kgfc ylkw doax ljqh\")  # App password only\n",
    "        smtp.send_message(msg)\n",
    "\n",
    "    return f\"Email sent successfully to {to}\"\n"
   ]
  },
  {
   "cell_type": "code",
   "execution_count": 204,
   "id": "7fc5de28",
   "metadata": {},
   "outputs": [],
   "source": [
    "\n",
    "# import csv\n",
    "\n",
    "# def load_recipients(csv_path=\"emails.csv\"):\n",
    "#     with open(csv_path, newline='') as f:\n",
    "#         reader = csv.DictReader(f)\n",
    "#         return [row[\"email\"] for row in reader]\n",
    "\n",
    "\n",
    "\n",
    "\n",
    "# import smtplib\n",
    "# from email.message import EmailMessage\n",
    "\n",
    "# def summarize_text(text):\n",
    "#     prompt = f\"Summarize the following text: {text}\"\n",
    "#     return llm.invoke(prompt)\n",
    "\n",
    "# def send_email(summary, subject=\"AI Summary Report Made by Aryan Patel\", csv_path=\"emails.csv\"):\n",
    "#     recipients = load_recipients(csv_path)  # list of emails\n",
    "# \n",
    "#     msg = EmailMessage()\n",
    "#     msg[\"Subject\"] = subject\n",
    "#     msg[\"From\"] = \"aryan9140782212@gmail.com\"\n",
    "#     msg[\"To\"] = \", \".join(recipients)  # header formatting\n",
    "#     msg.set_content(summary)\n",
    "\n",
    "\n",
    "#     with smtplib.SMTP_SSL(\"smtp.gmail.com\", 465) as smtp:\n",
    "#         smtp.login(\"aryan9140782212@gmail.com\", \"kgfc ylkw doax ljqh\")\n",
    "#         smtp.send_message(msg)\n",
    "\n",
    "#     return f\"Email sent successfully to {len(recipients)} recipients.\"\n"
   ]
  },
  {
   "cell_type": "markdown",
   "id": "0a4f3871",
   "metadata": {},
   "source": [
    "#  Build LangGraph Workflow for Automation"
   ]
  },
  {
   "cell_type": "code",
   "execution_count": 205,
   "id": "1955383a",
   "metadata": {},
   "outputs": [],
   "source": [
    "# !pip install langgraph langchain-core\n"
   ]
  },
  {
   "cell_type": "markdown",
   "id": "9aef5240",
   "metadata": {},
   "source": [
    "# use Langgraph \n",
    "\n",
    "# research , summarize_step , email_step = all  node define here"
   ]
  },
  {
   "cell_type": "code",
   "execution_count": 206,
   "id": "b288abee",
   "metadata": {},
   "outputs": [],
   "source": [
    "from langgraph.graph import StateGraph, END\n",
    "from langchain_core.pydantic_v1 import BaseModel\n",
    "from typing import List, Optional\n",
    "\n",
    "class ResearchState(BaseModel):\n",
    "    input: str\n",
    "    wiki: Optional[str] = None\n",
    "    arxiv: Optional[str] = None\n",
    "    summary: Optional[str] = None\n",
    "    email: Optional[str] = None\n",
    "    email_list: Optional[List[str]] = None  # Passed via app.py only\n"
   ]
  },
  {
   "cell_type": "code",
   "execution_count": 207,
   "id": "6f35f719",
   "metadata": {},
   "outputs": [],
   "source": [
    " from langgraph.graph import StateGraph, START, END"
   ]
  },
  {
   "cell_type": "code",
   "execution_count": 208,
   "id": "2681b9c9",
   "metadata": {},
   "outputs": [],
   "source": [
    "# from langgraph.graph import StateGraph, START, END\n",
    "\n",
    "# def research(state):\n",
    "#     query = state[\"input\"]\n",
    "#     wiki=wiki_tool.run(query)\n",
    "#     arxiv=arxiv_tool.run(query)\n",
    "#     return { \"query\":query , \"wiki\":wiki , \"arxiv\":arxiv  , **state}\n",
    "\n",
    "\n",
    "# def summarize_step(state): \n",
    "#     combined = f\"{state['wiki']} \\n\\n {state['arxiv']}\"  # concatenate with for summarization\n",
    "#     summary=summarize_text(combined)\n",
    "#     return {\"summary\":summary , **state}\n",
    "\n",
    "\n",
    "# def email_step(state):\n",
    "#     # 1️ Retrieve the summary (could be an AIMessage or plain string)\n",
    "#     summary_msg = state[\"summary\"]\n",
    "\n",
    "#     # 2️ Convert to plain string if necessary\n",
    "#     if hasattr(summary_msg, \"content\"):\n",
    "#         summary_text = summary_msg.content  # AIMessage → get its text\n",
    "#     else:\n",
    "#         summary_text = str(summary_msg)\n",
    "\n",
    "#     # 3️ Send email using the string content\n",
    "#     email_status = send_email(summary_text)  # must be a str, not AIMessage\n",
    "\n",
    "#     # 4️⃣ Return updated state (including confirmation message)\n",
    "#     return {\"email\": email_status, **state}\n"
   ]
  },
  {
   "cell_type": "code",
   "execution_count": null,
   "id": "095515bb",
   "metadata": {},
   "outputs": [],
   "source": []
  },
  {
   "cell_type": "code",
   "execution_count": 209,
   "id": "21d54afb",
   "metadata": {},
   "outputs": [],
   "source": [
    "from langgraph.graph import StateGraph, START, END"
   ]
  },
  {
   "cell_type": "code",
   "execution_count": 210,
   "id": "acdd8ca1",
   "metadata": {},
   "outputs": [],
   "source": [
    "def research(state: ResearchState):\n",
    "    query = state.input\n",
    "    wiki = wiki_tool.run(query)\n",
    "    arxiv = arxiv_tool.run(query)\n",
    "    return {\"wiki\": wiki, \"arxiv\": arxiv}\n",
    "\n",
    "def summarize_step(state: ResearchState):\n",
    "    combined = f\"{state.wiki}\\n\\n{state.arxiv}\"\n",
    "    summary = summarize_text(combined)\n",
    "    return {\"summary\": str(summary)}\n",
    "\n",
    "def email_step(state: ResearchState):\n",
    "    summary_text = state.summary or \"\"\n",
    "    email_list = state.email_list or []\n",
    "\n",
    "    if email_list:\n",
    "        for email in email_list:\n",
    "            send_email(summary_text, to=email)\n",
    "        status = \"✅ Summary sent successfully to email list.\"\n",
    "    else:\n",
    "        status = \"✅ Summary generated. No email sent.\"\n",
    "\n",
    "    return {\"summary\": summary_text, \"email\": status}\n"
   ]
  },
  {
   "cell_type": "markdown",
   "id": "ca44d914",
   "metadata": {},
   "source": [
    "# Create LangGraph pipeline"
   ]
  },
  {
   "cell_type": "code",
   "execution_count": 211,
   "id": "07a4bd10",
   "metadata": {},
   "outputs": [],
   "source": [
    "workflow = StateGraph(ResearchState)\n",
    "\n",
    "workflow.add_node(\"research_node\", research)\n",
    "workflow.add_node(\"summarize_node\", summarize_step)\n",
    "workflow.add_node(\"send_email_node\", email_step)\n",
    "\n",
    "workflow.set_entry_point(\"research_node\")\n",
    "workflow.add_edge(\"research_node\", \"summarize_node\")\n",
    "workflow.add_edge(\"summarize_node\", \"send_email_node\")\n",
    "workflow.add_edge(\"send_email_node\", END)\n",
    "\n",
    "app = workflow.compile()\n"
   ]
  },
  {
   "cell_type": "markdown",
   "id": "2207623c",
   "metadata": {},
   "source": [
    "# compile "
   ]
  },
  {
   "cell_type": "code",
   "execution_count": 212,
   "id": "70adbb14",
   "metadata": {},
   "outputs": [],
   "source": [
    "# 6️ Compile the graph\n",
    "app = workflow.compile()\n",
    "\n",
    "# 7️⃣ Invoke it with your initial state\n",
    "# result = app.invoke({\"input\": \"explain deep leaning \"})\n",
    "# print(result)"
   ]
  },
  {
   "cell_type": "code",
   "execution_count": 213,
   "id": "3cab0376",
   "metadata": {},
   "outputs": [
    {
     "name": "stdout",
     "output_type": "stream",
     "text": [
      "{'input': 'Explain Deep Learning', 'wiki': 'Page: Deep Learning Super Sampling\\nSummary: Deep Learning Super Sampling (DLSS) is a suite of real-time deep learning image enhancement and upscaling technologies developed by Nvidia that are available in a number of video games. The goal of these technologies is to allow the majority of the graphics pipeline to run at a lower resolution for increased performance, and then infer a higher resolution image from this that approximates the same level of detail as if the image had been rendered at this higher resolution. This allows for higher graphical settings and/or frame rates for a given output resolution, depending on user preference.\\nAll generations of DLSS are available on all RTX-branded cards from Nvidia in supported titles. However, the Frame Generation feature is only supported on 40 series GPUs or newer and Multi Frame Generation is only available on 50 series GPUs.\\n\\n', 'arxiv': \"Published: 2020-04-26\\nTitle: ExpDNN: Explainable Deep Neural Network\\nAuthors: Chi-Hua Chen\\nSummary: In recent years, deep neural networks have been applied to obtain high\\nperformance of prediction, classification, and pattern recognition. However,\\nthe weights in these deep neural networks are difficult to be explained.\\nAlthough a linear regression method can provide explainable results, the method\\nis not suitable in the case of input interaction. Therefore, an explainable\\ndeep neural network (ExpDNN) with explainable layers is proposed to obtain\\nexplainable results in the case of input interaction. Three cases were given to\\nevaluate the proposed ExpDNN, and the results showed that the absolute value of\\nweight in an explainable layer can be used to explain the weight of\\ncorresponding input for feature extraction.\\n\\nPublished: 2021-09-13\\nTitle: Explainable Deep Learning: A Field Guide for the Uninitiated\\nAuthors: Gabrielle Ras, Ning Xie, Marcel van Gerven, Derek Doran\\nSummary: Deep neural networks (DNNs) have become a proven and indispensable machine\\nlearning tool. As a black-box model, it remains difficult to diagnose what\\naspects of the model's input drive the decisions of a DNN. In countless\\nreal-world domains, from legislation and law enforcement to healthcare, such\\ndiagnosis is essential to ensure that DNN decisions are driven by aspects\\nappropriate in the context of its use. The development of methods and studies\\nenabling the explanation of a DNN's decisions has thus blossomed into an\\nactive, broad area of research. A practitioner wanting to study explainable\\ndeep learning may be intimidated by the plethora of orthogonal directions the\\nfield has taken. This complexity is further exacerbated by competing\\ndefinitions of what it means ``to explain'' the actions of a DNN and to\\nevaluate an approach's ``ability to explain''. This article offers a field\\nguide to explore the space of explainable deep learning aimed at those\\nuninitiated in the field. The field guide: i) Introduces three simple\\ndimensions defining the space of foundational methods that contribute to\\nexplainable deep learning, ii) discusses the evaluations for model\\nexplanations, iii) places explainability in the context of other related deep\\nlearning research areas, and iv) finally elaborates on user-oriented\\nexplanation designing and potential future directions on explainable deep\\nlearning. We hope the guide is used as an easy-to-digest starting point for\\nthose just embarking on research in this field.\\n\\nPublished: 2018-05-22\\nTitle: Opening the black box of deep learning\\nAuthors: Dian Lei, Xiaoxiao Chen, Jianfei Zhao\\nSummary: The great success of deep learning shows that its technology contains\\nprofound truth, and understanding its internal mechanism not only has important\\nimplications for the development of its technology and effective application in\\nvarious fields, but also provides meaningful insights into the understanding of\\nhuman brain mechanism. At present, most of the theoretical research on deep\\nlearning is based on mathematics. This dissertation proposes that the neural\\nnetwork of deep learning is a physical system, examines deep learning from\\nthree different perspectives: microscopic, macroscopic, and physical world\\nviews, answers multiple theoretical puzzles in deep learning by using physics\\nprinciples. For example, from the perspective of quantum mechanics and\\nstatistical physics, this dissertation presents the calculation methods for\\nconvolution calculation, pooling, normalization, and Restricted Boltzmann\\nMachine, as well as the selection of cost functions, explains why deep learning\\nmust be deep, what characteristics are learned in deep learning, why\\nConvolutional Neural Networks do not have to be trained layer by layer, and the\\nlimitations of deep learning, etc., and proposes the theoretical direction and\\nbasis for the further development of deep learning now and in the future. The\\nbrilliance of physics flashes in deep learning, we try to establish \", 'summary': 'content=\"The text appears to be a collection of summaries of research papers and articles related to deep learning and neural networks. Here\\'s a brief summary of each:\\\\n\\\\n**Deep Learning Super Sampling (DLSS)**: Developed by Nvidia, DLSS is a technology that uses deep learning to enhance and upscale images in real-time, allowing for higher graphical settings and frame rates in video games.\\\\n\\\\n**ExpDNN: Explainable Deep Neural Network**: This paper proposes an explainable deep neural network (ExpDNN) that can provide insights into the weights and interactions of the network. The authors demonstrate the effectiveness of ExpDNN in three cases.\\\\n\\\\n**Explainable Deep Learning: A Field Guide for the Uninitiated**: This article provides a guide for those new to the field of explainable deep learning. It introduces three dimensions of foundational methods, discusses evaluations for model explanations, and places explainability in the context of other deep learning research areas.\\\\n\\\\n**Opening the black box of deep learning**: This dissertation proposes a physical system view of deep learning, examining it from microscopic, macroscopic, and physical world views. The authors use physics principles to answer theoretical puzzles in deep learning and provide insights into the internal mechanism of deep learning.\" additional_kwargs={} response_metadata={\\'token_usage\\': {\\'completion_tokens\\': 243, \\'prompt_tokens\\': 1010, \\'total_tokens\\': 1253, \\'completion_time\\': 0.694285714, \\'prompt_time\\': 0.031942919, \\'queue_time\\': 0.060646748, \\'total_time\\': 0.726228633}, \\'model_name\\': \\'llama3-70b-8192\\', \\'system_fingerprint\\': \\'fp_dd4ae1c591\\', \\'finish_reason\\': \\'stop\\', \\'logprobs\\': None} id=\\'run--5d19c675-25f5-4539-8dbd-356ed63e895f-0\\' usage_metadata={\\'input_tokens\\': 1010, \\'output_tokens\\': 243, \\'total_tokens\\': 1253}', 'email': '✅ Summary generated. No email sent.'}\n"
     ]
    }
   ],
   "source": [
    "result = app.invoke({\n",
    "    \"input\": \"Explain Deep Learning\"\n",
    "    # No email_list → no emails sent\n",
    "})\n",
    "print(result)\n"
   ]
  },
  {
   "cell_type": "markdown",
   "id": "1bc111d0",
   "metadata": {},
   "source": [
    "# Visualize LangGraph Workflow (Agent Graph)"
   ]
  },
  {
   "cell_type": "code",
   "execution_count": 214,
   "id": "5b61a4b6",
   "metadata": {},
   "outputs": [],
   "source": [
    "# !pip install pygraphviz\n"
   ]
  },
  {
   "cell_type": "code",
   "execution_count": 215,
   "id": "28772bbc",
   "metadata": {},
   "outputs": [
    {
     "data": {
      "image/png": "[encoded data removed]",
      "text/plain": [
       "<IPython.core.display.Image object>"
      ]
     },
     "metadata": {},
     "output_type": "display_data"
    }
   ],
   "source": [
    "from IPython.display import Image, display\n",
    "\n",
    "try:\n",
    "    display(Image(app.get_graph().draw_mermaid_png()))\n",
    "except Exception as e:\n",
    "    print(\"❌ Graph rendering failed. Make sure graphviz & mermaid dependencies are installed.\")\n",
    "    print(e)\n"
   ]
  },
  {
   "cell_type": "markdown",
   "id": "8154a3f2",
   "metadata": {},
   "source": [
    "# use dill == Use dill to save the agent safely"
   ]
  },
  {
   "cell_type": "code",
   "execution_count": 216,
   "id": "1c952dca",
   "metadata": {},
   "outputs": [],
   "source": [
    "import dill\n",
    "\n",
    "with open(\"automation_agent.pkl\", \"wb\") as f:\n",
    "    dill.dump(app, f)\n"
   ]
  },
  {
   "cell_type": "markdown",
   "id": "4fffc241",
   "metadata": {},
   "source": [
    "# Create CSV with sample emails"
   ]
  },
  {
   "cell_type": "code",
   "execution_count": 217,
   "id": "937d2216",
   "metadata": {},
   "outputs": [],
   "source": [
    "#  Cell 8: Create CSV with sample emails\n",
    "import pandas as pd\n",
    "\n",
    "df = pd.DataFrame({\n",
    "    \"email\": [\"aryan914078@gmail.com\",  \"aryanpatel77462@gmail.com.com\" , \"arya230101047@iiitmanipur.ac.in\"]\n",
    "})\n",
    "\n",
    "\n",
    "df.to_csv(\"emails.csv\", index=False)\n"
   ]
  },
  {
   "cell_type": "code",
   "execution_count": 218,
   "id": "f4e72731",
   "metadata": {},
   "outputs": [],
   "source": [
    "# df = pd.read_csv(\"emails.csv\")\n",
    "\n",
    "# df"
   ]
  },
  {
   "cell_type": "code",
   "execution_count": 220,
   "id": "abae57bb",
   "metadata": {},
   "outputs": [
    {
     "data": {
      "text/plain": [
       "{'input': 'tell me about chatgpt ai model?',\n",
       " 'wiki': 'Page: ChatGPT\\nSummary: ChatGPT is a generative artificial intelligence chatbot developed by OpenAI and released on November 30, 2022. It uses large language models (LLMs) such as GPT-4o along with other multimodal models to generate human-like responses in text, speech, and images. It has access to features such as searching the web, using apps, and running programs. It is credited with accelerating the AI boom, an ongoing period of rapid investment in and public attention to the field of artificial intelligence (AI). Some observers have raised concern about the potential of ChatGPT and similar programs to displace human intelligence, enable plagiarism, or fuel misinformation.\\nChatGPT is built on OpenAI\\'s proprietary series of generative pre-trained transformer (GPT) models and is fine-tuned for conversational applications using a combination of supervised learning and reinforcement learning from human feedback. Successive user prompts and replies are considered as context at each stage of the conversation. ChatGPT was released as a freely available research preview, but due to its popularity, OpenAI now operates the service on a freemium model. Users on its free tier can access GPT-4o but at a reduced limit. The ChatGPT subscriptions \"Plus\", \"Pro\", \"Team\", and \"Enterprise\" provide increased usage limits and access to additional features or models. Users on the Pro plan have unlimited usage, except for abuse guardrails.\\nBy January 2023, ChatGPT had become the fastest-growing consumer software application in history, gaining over 100 million users in two months. ChatGPT\\'s release spurred the release of competing products, including Gemini, Claude, Llama, Ernie, and Grok. Microsoft launched Copilot, initially based on OpenAI\\'s GPT-4. In May 2024, a partnership between Apple Inc. and OpenAI was announced, in which ChatGPT was integrated into the Apple Intelligence feature of Apple operating systems. As of May 2025, ChatGPT\\'s website is among the 5 most-visited websites',\n",
       " 'arxiv': 'Published: 2025-05-09\\nTitle: Tell Me Who Your Students Are: GPT Can Generate Valid Multiple-Choice Questions When Students\\' (Mis)Understanding Is Hinted\\nAuthors: Machi Shimmei, Masaki Uto, Yuichiroh Matsubayashi, Kentaro Inui, Aditi Mallavarapu, Noboru Matsuda\\nSummary: The primary goal of this study is to develop and evaluate an innovative\\nprompting technique, AnaQuest, for generating multiple-choice questions (MCQs)\\nusing a pre-trained large language model. In AnaQuest, the choice items are\\nsentence-level assertions about complex concepts. The technique integrates\\nformative and summative assessments. In the formative phase, students answer\\nopen-ended questions for target concepts in free text. For summative\\nassessment, AnaQuest analyzes these responses to generate both correct and\\nincorrect assertions. To evaluate the validity of the generated MCQs, Item\\nResponse Theory (IRT) was applied to compare item characteristics between MCQs\\ngenerated by AnaQuest, a baseline ChatGPT prompt, and human-crafted items. An\\nempirical study found that expert instructors rated MCQs generated by both AI\\nmodels to be as valid as those created by human instructors. However, IRT-based\\nanalysis revealed that AnaQuest-generated questions - particularly those with\\nincorrect assertions (foils) - more closely resembled human-crafted items in\\nterms of difficulty and discrimination than those produced by ChatGPT.\\n\\nPublished: 2024-10-11\\nTitle: \"ChatGPT, Don\\'t Tell Me What to Do\": Designing AI for Context Analysis in Humanitarian Frontline Negotiations\\nAuthors: ZIlin Ma, Yiyang Mei, Claude Bruderlein, Krzysztof Z. Gajos, Weiwei Pan\\nSummary: Frontline humanitarian negotiators are increasingly exploring ways to use AI\\ntools in their workflows. However, current AI-tools in negotiation primarily\\nfocus on outcomes, neglecting crucial aspects of the negotiation process.\\nThrough iterative co-design with experienced frontline negotiators (n=32), we\\nfound that flexible tools that enable contextualizing cases and exploring\\noptions (with associated risks) are more effective than those providing direct\\nrecommendations of negotiation strategies. Surprisingly, negotiators\\ndemonstrated tolerance for occasional hallucinations and biases of AI. Our\\nfindings suggest that the design of AI-assisted negotiation tools should build\\non practitioners\\' existing practices, such as weighing different compromises\\nand validating information with peers. This approach leverages negotiators\\'\\nexpertise while enhancing their decision-making capabilities. We call for\\ntechnologists to learn from and collaborate closely with frontline negotiators,\\napplying these insights to future AI designs and jointly developing\\nprofessional guidelines for AI use in humanitarian negotiations.\\n\\nPublished: 2021-08-16\\nTitle: ModelPS: An Interactive and Collaborative Platform for Editing Pre-trained Models at Scale\\nAuthors: Yuanming Li, Huaizheng Zhang, Shanshan Jiang, Fan Yang, Yonggang Wen, Yong Luo\\nSummary: AI engineering has emerged as a crucial discipline to democratize deep neural\\nnetwork (DNN) models among software developers with a diverse background. In\\nparticular, altering these DNN models in the deployment stage posits a\\ntremendous challenge. In this research, we propose and develop a low-code\\nsolution, ModelPS (an acronym for \"Model Photoshop\"), to enable and empower\\ncollaborative DNN model editing and intelligent model serving. The ModelPS\\nsolution embodies two transformative features: 1) a user-friendly web interface\\nfor a developer team to share and edit DNN models pictorially, in a low-code\\nfashion, and 2) a model genie engine in the backend to aid developers in\\ncustomizing model editing configurations for given deployment requirements or\\nconstraints. Our case studies with a wide range of deep learning (DL) models\\nshow that the system can tremendously reduce both development and communication\\noverheads with improved productivity.',\n",
       " 'summary': 'content=\"The text appears to be a collection of summaries of research papers and articles related to ChatGPT, a generative AI chatbot developed by OpenAI. Here\\'s a brief summary of each section:\\\\n\\\\n**ChatGPT Overview**\\\\n\\\\nChatGPT is a conversational AI chatbot that uses large language models to generate human-like responses in text, speech, and images. It has access to various features like web searching, app usage, and program execution. ChatGPT has accelerated the AI boom, but raises concerns about displacing human intelligence, enabling plagiarism, and fueling misinformation.\\\\n\\\\n**Research Papers**\\\\n\\\\nThe text includes summaries of three research papers:\\\\n\\\\n1. The first paper discusses a prompting technique called AnaQuest, which generates multiple-choice questions using a pre-trained language model. The study finds that AnaQuest-generated questions are as valid as those created by human instructors.\\\\n2. The second paper explores the use of AI tools in humanitarian frontline negotiations. The study suggests that AI tools should be designed to enable contextual analysis and exploration of options, rather than providing direct recommendations.\\\\n3. The third paper proposes a low-code platform called ModelPS for editing pre-trained models at scale. The platform enables collaborative model editing and intelligent model serving, reducing development and communication overheads.\\\\n\\\\nOverall, the text highlights the capabilities and implications of ChatGPT, as well as ongoing research in AI-related fields.\" additional_kwargs={} response_metadata={\\'token_usage\\': {\\'completion_tokens\\': 277, \\'prompt_tokens\\': 1280, \\'total_tokens\\': 1557, \\'completion_time\\': 0.791428571, \\'prompt_time\\': 0.048164025, \\'queue_time\\': 0.057066485, \\'total_time\\': 0.839592596}, \\'model_name\\': \\'llama3-70b-8192\\', \\'system_fingerprint\\': \\'fp_dd4ae1c591\\', \\'finish_reason\\': \\'stop\\', \\'logprobs\\': None} id=\\'run--53ef503c-204d-4448-a463-fa616b41bbee-0\\' usage_metadata={\\'input_tokens\\': 1280, \\'output_tokens\\': 277, \\'total_tokens\\': 1557}',\n",
       " 'email': '✅ Summary sent successfully to email list.',\n",
       " 'email_list': ['aryan914078@gmail.com',\n",
       "  'aryanpatel77462@gmail.com.com',\n",
       "  'arya230101047@iiitmanipur.ac.in']}"
      ]
     },
     "execution_count": 220,
     "metadata": {},
     "output_type": "execute_result"
    }
   ],
   "source": [
    "# Test with CSV-loaded email list\n",
    "import pandas as pd\n",
    "\n",
    "emails = pd.read_csv(\"emails.csv\")[\"email\"].dropna().tolist()\n",
    "\n",
    "app.invoke({\n",
    "    \"input\": \"tell me about chatgpt ai model?\",\n",
    "    \"wiki\": \"\",\n",
    "    \"arxiv\": \"\",\n",
    "    \"summary\": \"\",\n",
    "    \"email_list\": emails\n",
    "})\n",
    "\n"
   ]
  },
  {
   "cell_type": "code",
   "execution_count": null,
   "id": "1176048d",
   "metadata": {},
   "outputs": [],
   "source": []
  },
  {
   "cell_type": "code",
   "execution_count": null,
   "id": "b69f11f6",
   "metadata": {},
   "outputs": [],
   "source": []
  },
  {
   "cell_type": "code",
   "execution_count": null,
   "id": "e64b6d5a",
   "metadata": {},
   "outputs": [],
   "source": []
  },
  {
   "cell_type": "code",
   "execution_count": null,
   "id": "c621fb92",
   "metadata": {},
   "outputs": [],
   "source": []
  },
  {
   "cell_type": "code",
   "execution_count": null,
   "id": "75151ae8",
   "metadata": {},
   "outputs": [],
   "source": []
  },
  {
   "cell_type": "code",
   "execution_count": null,
   "id": "e9d6ecc6",
   "metadata": {},
   "outputs": [],
   "source": []
  },
  {
   "cell_type": "code",
   "execution_count": null,
   "id": "a9f7fd42",
   "metadata": {},
   "outputs": [],
   "source": []
  },
  {
   "cell_type": "code",
   "execution_count": null,
   "id": "ef1d9187",
   "metadata": {},
   "outputs": [],
   "source": []
  },
  {
   "cell_type": "code",
   "execution_count": null,
   "id": "311eca12",
   "metadata": {},
   "outputs": [],
   "source": []
  },
  {
   "cell_type": "code",
   "execution_count": null,
   "id": "0019db6c",
   "metadata": {},
   "outputs": [],
   "source": []
  },
  {
   "cell_type": "code",
   "execution_count": null,
   "id": "d33a911f",
   "metadata": {},
   "outputs": [],
   "source": []
  },
  {
   "cell_type": "code",
   "execution_count": null,
   "id": "503051ed",
   "metadata": {},
   "outputs": [],
   "source": []
  },
  {
   "cell_type": "code",
   "execution_count": null,
   "metadata": {},
   "outputs": [],
   "source": []
  },
  {
   "cell_type": "code",
   "execution_count": null,
   "metadata": {},
   "outputs": [],
   "source": []
  },
  {
   "cell_type": "code",
   "execution_count": null,
   "metadata": {},
   "outputs": [],
   "source": []
  },
  {
   "cell_type": "code",
   "execution_count": null,
   "metadata": {},
   "outputs": [],
   "source": []
  },
  {
   "cell_type": "code",
   "execution_count": null,
   "id": "25e444a5",
   "metadata": {},
   "outputs": [],
   "source": []
  }
 ],
 "metadata": {
  "kernelspec": {
   "display_name": "base",
   "language": "python",
   "name": "python3"
  },
  "language_info": {
   "codemirror_mode": {
    "name": "ipython",
    "version": 3
   },
   "file_extension": ".py",
   "mimetype": "text/x-python",
   "name": "python",
   "nbconvert_exporter": "python",
   "pygments_lexer": "ipython3",
   "version": "3.12.7"
  }
 },
 "nbformat": 4,
 "nbformat_minor": 5
}
