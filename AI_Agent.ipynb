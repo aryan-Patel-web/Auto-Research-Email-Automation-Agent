{
 "cells": [
  {
   "cell_type": "markdown",
   "id": "e8e6d0de",
   "metadata": {},
   "source": [
    "# AutoResearchMailer"
   ]
  },
  {
   "cell_type": "markdown",
   "id": "e8402110",
   "metadata": {},
   "source": [
    "# AutoResearchMailer: Intelligent Research + Batch Email Agent\n",
    "🔍 Purpose:\n",
    "Automatically search a topic, summarize it using an open-source LLM (Gemma-2b-it via Groq), and email the summary to multiple recipients loaded from a CSV file — all through a clean Flask frontend."
   ]
  },
  {
   "cell_type": "markdown",
   "id": "81ee7dba",
   "metadata": {},
   "source": [
    "# 🧠 End-to-End Workflow Breakdown\n",
    "\n",
    "🔢 Step\t🔧 Task\t⚙️ Tools/Libraries\t💡 Description\n",
    "\n",
    "1️⃣\tInput topic from u  \t-Flask, index.html\tUser enters a research topic in a simple web form\n",
    "\n",
    "2️⃣\tLoad recipient emails\tpandas, emails.csv\tReads list of email addresses from a CSV file\n",
    "\n",
    "3️⃣\tSearch relevant info\tWikipediaQueryRun, ArxivAPIWrapper\tPulls articles from Wikipedia & Arxiv for the topic\n",
    "\n",
    "4️⃣\tSummarize content\tGroq API, gemma-2b-it model\tUses an open-source LLM to generate a short, clean summary\n",
    "\n",
    "5️⃣\tEmail the summary\tsmtplib, email.message\tSends the summary to each email in the CSV file\n",
    "\n",
    "6️⃣\tShow results\trender_template, result.html\tWeb UI displays the final summary and list of recipients\n",
    "\n",
    "7️⃣\tBackend reusability\tLangGraph, pickle\tAgent logic is saved & reused using a .pkl model in Flask"
   ]
  },
  {
   "cell_type": "code",
   "execution_count": 625,
   "id": "89bbdb45",
   "metadata": {},
   "outputs": [],
   "source": [
    "# #  Install required libraries\n",
    "# !pip install flask pandas langchain langchain_community langchain-groq langgraph cassio wikipedia arxiv tiktoken chromadb\n",
    "# # "
   ]
  },
  {
   "cell_type": "markdown",
   "id": "30563073",
   "metadata": {},
   "source": [
    "#  AstraDB Setup "
   ]
  },
  {
   "cell_type": "code",
   "execution_count": 626,
   "id": "462fd227",
   "metadata": {},
   "outputs": [],
   "source": [
    "# !pip install --upgrade cassandra-driver==3.29.2\n",
    "\n",
    "# import cassandra\n",
    "# print(cassandra.__version__)\n",
    "\n"
   ]
  },
  {
   "cell_type": "code",
   "execution_count": 627,
   "id": "d8d08e6a",
   "metadata": {},
   "outputs": [
    {
     "name": "stdout",
     "output_type": "stream",
     "text": [
      "Defaulting to user installation because normal site-packages is not writeable\n",
      "Requirement already satisfied: cassio in c:\\users\\aryan\\appdata\\roaming\\python\\python312\\site-packages (0.1.10)\n",
      "Requirement already satisfied: cassandra-driver<4.0.0,>=3.28.0 in c:\\users\\aryan\\appdata\\roaming\\python\\python312\\site-packages (from cassio) (3.29.2)\n",
      "Requirement already satisfied: numpy>=1.0 in c:\\users\\aryan\\appdata\\roaming\\python\\python312\\site-packages (from cassio) (1.26.4)\n",
      "Requirement already satisfied: requests<3.0.0,>=2.31.0 in c:\\users\\aryan\\appdata\\roaming\\python\\python312\\site-packages (from cassio) (2.32.4)\n",
      "Requirement already satisfied: geomet<0.3,>=0.1 in c:\\users\\aryan\\appdata\\roaming\\python\\python312\\site-packages (from cassandra-driver<4.0.0,>=3.28.0->cassio) (0.2.1.post1)\n",
      "Requirement already satisfied: click in c:\\users\\aryan\\appdata\\roaming\\python\\python312\\site-packages (from geomet<0.3,>=0.1->cassandra-driver<4.0.0,>=3.28.0->cassio) (8.2.1)\n",
      "Requirement already satisfied: six in c:\\users\\aryan\\appdata\\roaming\\python\\python312\\site-packages (from geomet<0.3,>=0.1->cassandra-driver<4.0.0,>=3.28.0->cassio) (1.17.0)\n",
      "Requirement already satisfied: charset_normalizer<4,>=2 in c:\\users\\aryan\\appdata\\roaming\\python\\python312\\site-packages (from requests<3.0.0,>=2.31.0->cassio) (3.4.2)\n",
      "Requirement already satisfied: idna<4,>=2.5 in c:\\users\\aryan\\appdata\\roaming\\python\\python312\\site-packages (from requests<3.0.0,>=2.31.0->cassio) (3.10)\n",
      "Requirement already satisfied: urllib3<3,>=1.21.1 in c:\\users\\aryan\\appdata\\roaming\\python\\python312\\site-packages (from requests<3.0.0,>=2.31.0->cassio) (2.5.0)\n",
      "Requirement already satisfied: certifi>=2017.4.17 in c:\\users\\aryan\\appdata\\roaming\\python\\python312\\site-packages (from requests<3.0.0,>=2.31.0->cassio) (2025.6.15)\n",
      "Requirement already satisfied: colorama in c:\\users\\aryan\\appdata\\roaming\\python\\python312\\site-packages (from click->geomet<0.3,>=0.1->cassandra-driver<4.0.0,>=3.28.0->cassio) (0.4.6)\n"
     ]
    }
   ],
   "source": [
    "!pip install cassio\n"
   ]
  },
  {
   "cell_type": "code",
   "execution_count": 628,
   "id": "1a26ae23",
   "metadata": {},
   "outputs": [],
   "source": [
    "# import cassio\n",
    "# ## connection of the ASTRA DB\n",
    "\n",
    "\n",
    "# cassio.init(token=ASTRA_DB_APPLICATION_TOKEN,database_id=ASTRA_DB_ID)"
   ]
  },
  {
   "cell_type": "markdown",
   "id": "e229bcd7",
   "metadata": {},
   "source": [
    "# Load Groq LLM "
   ]
  },
  {
   "cell_type": "code",
   "execution_count": 629,
   "id": "7cfe61cf",
   "metadata": {},
   "outputs": [
    {
     "data": {
      "text/plain": [
       "ChatGroq(client=<groq.resources.chat.completions.Completions object at 0x000001499582E540>, async_client=<groq.resources.chat.completions.AsyncCompletions object at 0x000001499582F7A0>, model_name='llama-3.3-70b-versatile', model_kwargs={}, groq_api_key=SecretStr('**********'))"
      ]
     },
     "execution_count": 629,
     "metadata": {},
     "output_type": "execute_result"
    }
   ],
   "source": [
    "import os\n",
    "from langchain_groq import ChatGroq\n",
    "\n",
    "groq_api_key = os.environ.get(\"GROK_API_KEY\")\n",
    "\n",
    "llm=ChatGroq(groq_api_key=groq_api_key, model=\"llama-3.3-70b-versatile\")\n",
    "\n",
    "llm"
   ]
  },
  {
   "cell_type": "markdown",
   "id": "5d96851a",
   "metadata": {},
   "source": [
    "# Load External Tools (Wikipedia + Arxiv)"
   ]
  },
  {
   "cell_type": "code",
   "execution_count": 630,
   "id": "2a138d8c",
   "metadata": {},
   "outputs": [
    {
     "name": "stdout",
     "output_type": "stream",
     "text": [
      "Page: LangChain\n",
      "Summary: LangChain is a software framework that helps facilitate the integration of large language models (LLMs) into applications. As a language model integration framework, LangChain's use-cases largely overlap with those of language models in general, including document analysis and summarization, chatbots, and code analysis.\n",
      "\n",
      "\n",
      "Published: 2016-05-26\n",
      "Title: Heat-bath random walks with Markov bases\n",
      "Authors: Caprice Stanley, Tobias Windisch\n",
      "Summary: Graphs on lattice points are studied whose edges come from a finite set of\n",
      "allowed moves of arbitrary length. We show that the diameter of these graphs on\n",
      "fibers of a fixed integer matrix can be bounded from above by a constant. We\n",
      "then study the mixing behaviour of heat-bath random walks on these graphs. We\n",
      "also state explicit conditions on the set of moves so that the heat-bath random\n",
      "walk, a generalization of the Glauber dynamics, is an expander in fixed\n",
      "dimension.\n"
     ]
    }
   ],
   "source": [
    "\n",
    "from langchain_community.utilities import WikipediaAPIWrapper, ArxivAPIWrapper\n",
    "from langchain_community.tools import WikipediaQueryRun, ArxivQueryRun\n",
    "\n",
    "# Set up the wrappers with optional tuning\n",
    "wiki_wrapper = WikipediaAPIWrapper(top_k_results=1, doc_content_chars_max=2000)\n",
    "wiki_tool = WikipediaQueryRun(api_wrapper=wiki_wrapper, return_direct=True)\n",
    "\n",
    "arxiv_wrapper = ArxivAPIWrapper()\n",
    "arxiv_tool = ArxivQueryRun(api_wrapper=arxiv_wrapper, return_direct=True)\n",
    "\n",
    "# Example usage:\n",
    "print(wiki_tool.run({\"query\": \"LangChain\"}))\n",
    "print(arxiv_tool.run({\"query\": \"1605.08386\"}))  # Fetches data on a specific arXiv paper\n"
   ]
  },
  {
   "cell_type": "markdown",
   "id": "d1b5f052",
   "metadata": {},
   "source": [
    "# Summarizer + Email Sender (Multiple Emails)"
   ]
  },
  {
   "cell_type": "markdown",
   "id": "2ed08b1d",
   "metadata": {},
   "source": [
    "# step-1   https://myaccount.google.com/u/2/security  ---- here on 2-step authentication like passkey , authenticator . google prompt , add mobile number etc"
   ]
  },
  {
   "cell_type": "markdown",
   "id": "3e7d3c83",
   "metadata": {},
   "source": [
    "# step-2 --- https://myaccount.google.com/u/2/apppasswords   -- here enter appname then 16 digit password will be generated copy and paste here"
   ]
  },
  {
   "cell_type": "code",
   "execution_count": 631,
   "id": "7085e81e",
   "metadata": {},
   "outputs": [],
   "source": [
    "# import smtplib\n",
    "# from email.message import EmailMessage\n",
    "\n",
    "\n",
    "# def summarize_text(text):\n",
    "#     prompt = f\"Summarize the following text: {text}\"\n",
    "#     return llm.invoke(prompt)\n",
    "\n",
    "# # def send_email(summary , subject=\"AI Summary Report\" , to=\"aryanpatel77462@gmail.com\"):\n",
    "# def send_email(summary , subject=\"AI Summary Report\" , to=\"aryan914078@gmail.com\"):\n",
    "#     msg = EmailMessage()\n",
    "\n",
    "#     msg[\"Subject\"] = subject\n",
    "#     msg[\"From\"] = \"aryan9140782212@gmail.com\"\n",
    "#     msg[\"To\"] = to\n",
    "#     msg.set_content(summary)\n",
    "\n",
    "\n",
    "#     with smtplib.SMTP_SSL(\"smtp.gmail.com\", 465) as smtp:\n",
    "#         smtp.login(\"aryan9140782212@gmail.com\", \"kgfc ylkw doax ljqh\")\n",
    "#         smtp.send_message(msg)\n",
    "  \n",
    "\n",
    "#         return f\"Email sent successfully {to}\"\n",
    "\n",
    "\n"
   ]
  },
  {
   "cell_type": "code",
   "execution_count": 632,
   "id": "7fc5de28",
   "metadata": {},
   "outputs": [],
   "source": [
    "\n",
    "import csv\n",
    "\n",
    "def load_recipients(csv_path=\"emails.csv\"):\n",
    "    with open(csv_path, newline='') as f:\n",
    "        reader = csv.DictReader(f)\n",
    "        return [row[\"email\"] for row in reader]\n",
    "\n",
    "\n",
    "\n",
    "\n",
    "import smtplib\n",
    "from email.message import EmailMessage\n",
    "\n",
    "def summarize_text(text):\n",
    "    prompt = f\"Summarize the following text: {text}\"\n",
    "    return llm.invoke(prompt)\n",
    "\n",
    "def send_email(summary, subject=\"AI Summary Report Made by Aryan Patel\", csv_path=\"emails.csv\"):\n",
    "    recipients = load_recipients(csv_path)  # list of emails\n",
    "\n",
    "    msg = EmailMessage()\n",
    "    msg[\"Subject\"] = subject\n",
    "    msg[\"From\"] = \"aryan9140782212@gmail.com\"\n",
    "    msg[\"To\"] = \", \".join(recipients)  # header formatting\n",
    "    msg.set_content(summary)\n",
    "\n",
    "\n",
    "    with smtplib.SMTP_SSL(\"smtp.gmail.com\", 465) as smtp:\n",
    "        smtp.login(\"aryan9140782212@gmail.com\", \"kgfc ylkw doax ljqh\")\n",
    "        smtp.send_message(msg)\n",
    "\n",
    "    return f\"Email sent successfully to {len(recipients)} recipients.\"\n"
   ]
  },
  {
   "cell_type": "markdown",
   "id": "0a4f3871",
   "metadata": {},
   "source": [
    "#  Build LangGraph Workflow for Automation"
   ]
  },
  {
   "cell_type": "code",
   "execution_count": 633,
   "id": "1955383a",
   "metadata": {},
   "outputs": [],
   "source": [
    "# !pip install langgraph langchain-core\n"
   ]
  },
  {
   "cell_type": "markdown",
   "id": "9aef5240",
   "metadata": {},
   "source": [
    "# use Langgraph \n",
    "\n",
    "# research , summarize_step , email_step = all  node define here"
   ]
  },
  {
   "cell_type": "code",
   "execution_count": 634,
   "id": "b288abee",
   "metadata": {},
   "outputs": [],
   "source": [
    "from typing_extensions import TypedDict\n",
    "from typing import List\n",
    "from langgraph.graph import StateGraph, END\n",
    "\n",
    "# Define the shared state structure\n",
    "class ResearchState(TypedDict):\n",
    "    input: str\n",
    "    wiki: str\n",
    "    arxiv: str\n",
    "    summary: str\n",
    "    email_list: List[str]  # ✅ list of recipients\n"
   ]
  },
  {
   "cell_type": "code",
   "execution_count": 635,
   "id": "6f35f719",
   "metadata": {},
   "outputs": [],
   "source": [
    " from langgraph.graph import StateGraph, START, END"
   ]
  },
  {
   "cell_type": "code",
   "execution_count": 636,
   "id": "2681b9c9",
   "metadata": {},
   "outputs": [],
   "source": [
    "from langgraph.graph import StateGraph, START, END\n",
    "\n",
    "def research(state):\n",
    "    query = state[\"input\"]\n",
    "    wiki=wiki_tool.run(query)\n",
    "    arxiv=arxiv_tool.run(query)\n",
    "    return { \"query\":query , \"wiki\":wiki , \"arxiv\":arxiv  , **state}\n",
    "\n",
    "\n",
    "def summarize_step(state): \n",
    "    combined = f\"{state['wiki']} \\n\\n {state['arxiv']}\"  # concatenate with for summarization\n",
    "    summary=summarize_text(combined)\n",
    "    return {\"summary\":summary , **state}\n",
    "\n",
    "\n",
    "def email_step(state):\n",
    "    # 1️ Retrieve the summary (could be an AIMessage or plain string)\n",
    "    summary_msg = state[\"summary\"]\n",
    "\n",
    "    # 2️ Convert to plain string if necessary\n",
    "    if hasattr(summary_msg, \"content\"):\n",
    "        summary_text = summary_msg.content  # AIMessage → get its text\n",
    "    else:\n",
    "        summary_text = str(summary_msg)\n",
    "\n",
    "    # 3️ Send email using the string content\n",
    "    email_status = send_email(summary_text)  # must be a str, not AIMessage\n",
    "\n",
    "    # 4️⃣ Return updated state (including confirmation message)\n",
    "    return {\"email\": email_status, **state}\n"
   ]
  },
  {
   "cell_type": "code",
   "execution_count": null,
   "id": "095515bb",
   "metadata": {},
   "outputs": [],
   "source": []
  },
  {
   "cell_type": "code",
   "execution_count": 637,
   "id": "21d54afb",
   "metadata": {},
   "outputs": [],
   "source": [
    "from langgraph.graph import StateGraph, START, END"
   ]
  },
  {
   "cell_type": "code",
   "execution_count": 638,
   "id": "acdd8ca1",
   "metadata": {},
   "outputs": [],
   "source": [
    "# from typing_extensions import TypedDict\n",
    "# from typing import List\n",
    "# from langgraph.graph import StateGraph, START, END\n",
    "\n",
    "# # 1. Shared State Schema\n",
    "# class ResearchState(TypedDict):\n",
    "#     input: str\n",
    "#     wiki: str\n",
    "#     arxiv: str\n",
    "#     summary: str\n",
    "#     email_list: List[str]\n",
    "#     email: str  # result status message\n",
    "\n",
    "\n",
    "# # 2. Node: Research (Wikipedia + Arxiv)\n",
    "# def research(state: ResearchState) -> ResearchState:\n",
    "#     try:\n",
    "#         query = state[\"input\"]\n",
    "#         wiki = wiki_tool.run(query)\n",
    "#         arxiv = arxiv_tool.run(query)\n",
    "#         return {**state, \"wiki\": wiki, \"arxiv\": arxiv}\n",
    "#     except Exception as e:\n",
    "#         return {**state, \"wiki\": \"\", \"arxiv\": f\"❌ Research error: {e}\"}\n",
    "\n",
    "\n",
    "# # 3. Node: Summarization\n",
    "# def summarize_step(state: ResearchState) -> ResearchState:\n",
    "#     try:\n",
    "#         content = f\"{state.get('wiki', '')}\\n\\n{state.get('arxiv', '')}\"\n",
    "#         if not content.strip():\n",
    "#             return {**state, \"summary\": \"⚠️ No content to summarize.\"}\n",
    "#         summary = summarize_text(content)\n",
    "#         return {**state, \"summary\": summary}\n",
    "#     except Exception as e:\n",
    "#         return {**state, \"summary\": f\"❌ Summarization error: {e}\"}\n",
    "\n",
    "\n",
    "# # 4. Node: Email Sending\n",
    "# def email_step(state: ResearchState) -> ResearchState:\n",
    "#     try:\n",
    "#         summary_msg = state.get(\"summary\", \"\")\n",
    "#         email_list = state.get(\"email_list\", [])\n",
    "\n",
    "#         # Handle both plain text and AIMessage\n",
    "#         if hasattr(summary_msg, \"content\"):\n",
    "#             summary_text = summary_msg.content\n",
    "#         else:\n",
    "#             summary_text = str(summary_msg)\n",
    "\n",
    "#         # Send to all recipients\n",
    "#         for email in email_list:\n",
    "#             send_email(summary_text, to=email)\n",
    "\n",
    "#         return {**state, \"email\": f\"✅ Sent to {len(email_list)} emails\"}\n",
    "#     except Exception as e:\n",
    "#         return {**state, \"email\": f\"❌ Email sending error: {e}\"}\n"
   ]
  },
  {
   "cell_type": "markdown",
   "id": "ca44d914",
   "metadata": {},
   "source": [
    "# Create LangGraph pipeline"
   ]
  },
  {
   "cell_type": "code",
   "execution_count": 639,
   "id": "07a4bd10",
   "metadata": {},
   "outputs": [
    {
     "data": {
      "text/plain": [
       "<langgraph.graph.state.StateGraph at 0x149958fcd70>"
      ]
     },
     "execution_count": 639,
     "metadata": {},
     "output_type": "execute_result"
    }
   ],
   "source": [
    "\n",
    "\n",
    "# Initialize the graph with the state schema\n",
    "workflow = StateGraph(ResearchState)\n",
    "\n",
    "# Add your nodes (note the node name must NOT clash with state keys)\n",
    "workflow.add_node(\"research_node\", research)\n",
    "workflow.add_node(\"summarize_node\", summarize_step)\n",
    "workflow.add_node(\"send_email_node\", email_step)\n",
    "\n",
    "# Set the starting node\n",
    "workflow.set_entry_point(\"research_node\")\n",
    "\n",
    "# Define the linear workflow edges\n",
    "workflow.add_edge(\"research_node\", \"summarize_node\")\n",
    "workflow.add_edge(\"summarize_node\", \"send_email_node\")\n",
    "workflow.add_edge(\"send_email_node\", END)\n",
    "\n",
    "\n"
   ]
  },
  {
   "cell_type": "markdown",
   "id": "2207623c",
   "metadata": {},
   "source": [
    "# compile "
   ]
  },
  {
   "cell_type": "code",
   "execution_count": 640,
   "id": "70adbb14",
   "metadata": {},
   "outputs": [
    {
     "name": "stdout",
     "output_type": "stream",
     "text": [
      "{'input': 'explain deep leaning ', 'wiki': \"Page: Ideological leanings of United States Supreme Court justices\\nSummary: The Supreme Court of the United States is the country's highest federal court. The Court has ultimate—and largely discretionary—appellate jurisdiction over all federal courts and state court cases involving issues of U.S. federal law, plus original jurisdiction over a small range of cases.\\nThe nine Supreme Court justices base their decisions on their interpretation of both legal doctrine and the precedential application of laws in the past. In most cases, interpreting the law is relatively clear-cut and the justices decide unanimously; however, in more complicated or controversial cases, the Court is often divided.\\nIn modern discourse, the justices of the Court are often categorized as having conservative, moderate, or liberal philosophies of law and of judicial interpretation. It has long been commonly assumed that justices' votes are a reflection of their judicial decision-making philosophy as well as their ideological leanings, personal attitudes, values, political philosophies, or policy preferences. A growing body of academic research has confirmed this understanding, as scholars have found that the justices largely vote in consonance with their perceived values. Analysts have used a variety of methods to deduce the specific perspective of each justice.\", 'arxiv': \"Published: 2023-05-08\\nTitle: XAI in Computational Linguistics: Understanding Political Leanings in the Slovenian Parliament\\nAuthors: Bojan Evkoski, Senja Pollak\\nSummary: The work covers the development and explainability of machine learning models\\nfor predicting political leanings through parliamentary transcriptions. We\\nconcentrate on the Slovenian parliament and the heated debate on the European\\nmigrant crisis, with transcriptions from 2014 to 2020. We develop both\\nclassical machine learning and transformer language models to predict the left-\\nor right-leaning of parliamentarians based on their given speeches on the topic\\nof migrants. With both types of models showing great predictive success, we\\ncontinue with explaining their decisions. Using explainability techniques, we\\nidentify keywords and phrases that have the strongest influence in predicting\\npolitical leanings on the topic, with left-leaning parliamentarians using\\nconcepts such as people and unity and speak about refugees, and right-leaning\\nparliamentarians using concepts such as nationality and focus more on illegal\\nmigrants. This research is an example that understanding the reasoning behind\\npredictions can not just be beneficial for AI engineers to improve their\\nmodels, but it can also be helpful as a tool in the qualitative analysis steps\\nin interdisciplinary research.\\n\\nPublished: 2024-11-07\\nTitle: Balancing Transparency and Accuracy: A Comparative Analysis of Rule-Based and Deep Learning Models in Political Bias Classification\\nAuthors: Manuel Nunez Martinez, Sonja Schmer-Galunder, Zoey Liu, Sangpil Youm, Chathuri Jayaweera, Bonnie J. Dorr\\nSummary: The unchecked spread of digital information, combined with increasing\\npolitical polarization and the tendency of individuals to isolate themselves\\nfrom opposing political viewpoints, has driven researchers to develop systems\\nfor automatically detecting political bias in media. This trend has been\\nfurther fueled by discussions on social media. We explore methods for\\ncategorizing bias in US news articles, comparing rule-based and deep learning\\napproaches. The study highlights the sensitivity of modern self-learning\\nsystems to unconstrained data ingestion, while reconsidering the strengths of\\ntraditional rule-based systems. Applying both models to left-leaning (CNN) and\\nright-leaning (FOX) news articles, we assess their effectiveness on data beyond\\nthe original training and test sets.This analysis highlights each model's\\naccuracy, offers a framework for exploring deep-learning explainability, and\\nsheds light on political bias in US news media. We contrast the opaque\\narchitecture of a deep learning model with the transparency of a linguistically\\ninformed rule-based model, showing that the rule-based model performs\\nconsistently across different data conditions and offers greater transparency,\\nwhereas the deep learning model is dependent on the training set and struggles\\nwith unseen data.\\n\\nPublished: 2022-08-03\\nTitle: A Deep Learning Approach to Detect Lean Blowout in Combustion Systems\\nAuthors: Tryambak Gangopadhyay, Somnath De, Qisai Liu, Achintya Mukhopadhyay, Swarnendu Sen, Soumik Sarkar\\nSummary: Lean combustion is environment friendly with low NOx emissions and also\\nprovides better fuel efficiency in a combustion system. However, approaching\\ntowards lean combustion can make engines more susceptible to lean blowout. Lean\\nblowout (LBO) is an undesirable phenomenon that can cause sudden flame\\nextinction leading to sudden loss of power. During the design stage, it is\\nquite challenging for the scientists to accurately determine the optimal\\noperating limits to avoid sudden LBO occurrence. Therefore, it is crucial to\\ndevelop accurate and computationally tractable frameworks for online LBO\\ndetection in low NOx emission engines. To the best of our knowledge, for the\\nfirst time, we propose a deep learning approach to detect lean blowout in\\ncombustion systems. In this work, we utilize a laboratory-scale combustor to\\ncollect data f\", 'summary': AIMessage(content='The provided text consists of four separate summaries of research papers and a general introduction to the ideological leanings of United States Supreme Court justices. Here\\'s a brief summary of each:\\n\\n1. **Ideological leanings of United States Supreme Court justices**: The Supreme Court justices base their decisions on their interpretation of laws and precedents. Their votes are often categorized as conservative, moderate, or liberal, reflecting their judicial decision-making philosophy and ideological leanings.\\n\\n2. **XAI in Computational Linguistics: Understanding Political Leanings in the Slovenian Parliament** (2023): This study used machine learning models to predict the political leanings of Slovenian parliamentarians based on their speeches. The models were able to identify keywords and phrases that influenced the predictions, such as \"people\" and \"unity\" for left-leaning parliamentarians, and \"nationality\" for right-leaning ones.\\n\\n3. **Balancing Transparency and Accuracy: A Comparative Analysis of Rule-Based and Deep Learning Models in Political Bias Classification** (2024): This research compared rule-based and deep learning approaches to detect political bias in US news articles. The study found that rule-based models offered greater transparency and consistency, while deep learning models were more dependent on the training set and struggled with unseen data.\\n\\n4. **A Deep Learning Approach to Detect Lean Blowout in Combustion Systems** (2022): This paper proposed a deep learning approach to detect lean blowout in combustion systems, which can cause sudden flame extinction and loss of power. The study utilized a laboratory-scale combustor to collect data and develop a framework for online detection of lean blowout.\\n\\nThese summaries highlight the application of machine learning and deep learning models in various fields, including political science, linguistics, and engineering, to analyze and predict complex phenomena such as political leanings, bias, and combustion systems.', additional_kwargs={}, response_metadata={'token_usage': {'completion_tokens': 367, 'prompt_tokens': 1107, 'total_tokens': 1474, 'completion_time': 1.334545455, 'prompt_time': 0.093109533, 'queue_time': 0.053114147, 'total_time': 1.427654988}, 'model_name': 'llama-3.3-70b-versatile', 'system_fingerprint': 'fp_2ddfbb0da0', 'finish_reason': 'stop', 'logprobs': None}, id='run--2a6ece20-a322-48b0-a67a-2bf343d6a7bd-0', usage_metadata={'input_tokens': 1107, 'output_tokens': 367, 'total_tokens': 1474})}\n"
     ]
    }
   ],
   "source": [
    "# 6️ Compile the graph\n",
    "app = workflow.compile()\n",
    "\n",
    "# 7️⃣ Invoke it with your initial state\n",
    "result = app.invoke({\"input\": \"explain deep leaning \"})\n",
    "print(result)"
   ]
  },
  {
   "cell_type": "code",
   "execution_count": null,
   "id": "a3bc2d77",
   "metadata": {},
   "outputs": [],
   "source": []
  },
  {
   "cell_type": "markdown",
   "id": "1bc111d0",
   "metadata": {},
   "source": [
    "# Visualize LangGraph Workflow (Agent Graph)"
   ]
  },
  {
   "cell_type": "code",
   "execution_count": 641,
   "id": "5b61a4b6",
   "metadata": {},
   "outputs": [],
   "source": [
    "# !pip install pygraphviz\n"
   ]
  },
  {
   "cell_type": "code",
   "execution_count": 642,
   "id": "28772bbc",
   "metadata": {},
   "outputs": [
    {
     "data": {
      "image/png": "[encoded data removed]",
      "text/plain": [
       "<IPython.core.display.Image object>"
      ]
     },
     "metadata": {},
     "output_type": "display_data"
    }
   ],
   "source": [
    "from IPython.display import Image, display\n",
    "\n",
    "# Generate Mermaid PNG image of the compiled workflow\n",
    "try:\n",
    "    display(Image(app.get_graph().draw_mermaid_png()))\n",
    "except Exception as e:\n",
    "    print(\"❌ Graph rendering failed. Ensure required dependencies are installed.\")\n",
    "    print(e)\n"
   ]
  },
  {
   "cell_type": "markdown",
   "id": "8154a3f2",
   "metadata": {},
   "source": [
    "# use dill == Use dill to save the agent safely"
   ]
  },
  {
   "cell_type": "code",
   "execution_count": 643,
   "id": "1c952dca",
   "metadata": {},
   "outputs": [],
   "source": [
    "#  Cell 7: Use dill to save the agent safely\n",
    "import dill\n",
    "\n",
    "with open(\"automation_agent.pkl\", \"wb\") as f:\n",
    "    dill.dump(app, f)\n"
   ]
  },
  {
   "cell_type": "markdown",
   "id": "4fffc241",
   "metadata": {},
   "source": [
    "# Create CSV with sample emails"
   ]
  },
  {
   "cell_type": "code",
   "execution_count": 644,
   "id": "937d2216",
   "metadata": {},
   "outputs": [],
   "source": [
    "#  Cell 8: Create CSV with sample emails\n",
    "import pandas as pd\n",
    "\n",
    "df = pd.DataFrame({\n",
    "    \"email\": [\"aryan914078@gmail.com\",  \"aryanpatel77462@gmail.com.com\" , \"arya230101047@iiitmanipur.ac.in\"]\n",
    "})\n",
    "\n",
    "\n",
    "df.to_csv(\"emails.csv\", index=False)\n"
   ]
  },
  {
   "cell_type": "code",
   "execution_count": 645,
   "id": "f4e72731",
   "metadata": {},
   "outputs": [],
   "source": [
    "# df = pd.read_csv(\"emails.csv\")\n",
    "\n",
    "# df"
   ]
  },
  {
   "cell_type": "code",
   "execution_count": 646,
   "id": "abae57bb",
   "metadata": {},
   "outputs": [
    {
     "data": {
      "text/plain": [
       "{'input': 'What is generative AI?',\n",
       " 'wiki': '',\n",
       " 'arxiv': '',\n",
       " 'summary': '',\n",
       " 'email_list': ['aryan914078@gmail.com',\n",
       "  'aryanpatel77462@gmail.com.com',\n",
       "  'arya230101047@iiitmanipur.ac.in']}"
      ]
     },
     "execution_count": 646,
     "metadata": {},
     "output_type": "execute_result"
    }
   ],
   "source": [
    "# Test with CSV-loaded email list\n",
    "import pandas as pd\n",
    "\n",
    "emails = pd.read_csv(\"emails.csv\")[\"email\"].dropna().tolist()\n",
    "\n",
    "app.invoke({\n",
    "    \"input\": \"What is generative AI?\",\n",
    "    \"wiki\": \"\",\n",
    "    \"arxiv\": \"\",\n",
    "    \"summary\": \"\",\n",
    "    \"email_list\": emails\n",
    "})\n",
    "\n"
   ]
  },
  {
   "cell_type": "code",
   "execution_count": null,
   "id": "1176048d",
   "metadata": {},
   "outputs": [],
   "source": []
  },
  {
   "cell_type": "code",
   "execution_count": null,
   "id": "b69f11f6",
   "metadata": {},
   "outputs": [],
   "source": []
  },
  {
   "cell_type": "code",
   "execution_count": null,
   "id": "e64b6d5a",
   "metadata": {},
   "outputs": [],
   "source": []
  },
  {
   "cell_type": "code",
   "execution_count": null,
   "id": "c621fb92",
   "metadata": {},
   "outputs": [],
   "source": []
  },
  {
   "cell_type": "code",
   "execution_count": null,
   "id": "75151ae8",
   "metadata": {},
   "outputs": [],
   "source": []
  },
  {
   "cell_type": "code",
   "execution_count": null,
   "id": "e9d6ecc6",
   "metadata": {},
   "outputs": [],
   "source": []
  },
  {
   "cell_type": "code",
   "execution_count": null,
   "id": "a9f7fd42",
   "metadata": {},
   "outputs": [],
   "source": []
  },
  {
   "cell_type": "code",
   "execution_count": null,
   "id": "ef1d9187",
   "metadata": {},
   "outputs": [],
   "source": []
  },
  {
   "cell_type": "code",
   "execution_count": null,
   "id": "311eca12",
   "metadata": {},
   "outputs": [],
   "source": []
  },
  {
   "cell_type": "code",
   "execution_count": null,
   "id": "0019db6c",
   "metadata": {},
   "outputs": [],
   "source": []
  },
  {
   "cell_type": "code",
   "execution_count": null,
   "id": "d33a911f",
   "metadata": {},
   "outputs": [],
   "source": []
  },
  {
   "cell_type": "code",
   "execution_count": null,
   "id": "503051ed",
   "metadata": {},
   "outputs": [],
   "source": []
  },
  {
   "cell_type": "code",
   "execution_count": null,
   "metadata": {},
   "outputs": [],
   "source": []
  },
  {
   "cell_type": "code",
   "execution_count": null,
   "metadata": {},
   "outputs": [],
   "source": []
  },
  {
   "cell_type": "code",
   "execution_count": null,
   "metadata": {},
   "outputs": [],
   "source": []
  },
  {
   "cell_type": "code",
   "execution_count": null,
   "metadata": {},
   "outputs": [],
   "source": []
  },
  {
   "cell_type": "code",
   "execution_count": null,
   "id": "25e444a5",
   "metadata": {},
   "outputs": [],
   "source": []
  }
 ],
 "metadata": {
  "kernelspec": {
   "display_name": "base",
   "language": "python",
   "name": "python3"
  },
  "language_info": {
   "codemirror_mode": {
    "name": "ipython",
    "version": 3
   },
   "file_extension": ".py",
   "mimetype": "text/x-python",
   "name": "python",
   "nbconvert_exporter": "python",
   "pygments_lexer": "ipython3",
   "version": "3.12.7"
  }
 },
 "nbformat": 4,
 "nbformat_minor": 5
}
